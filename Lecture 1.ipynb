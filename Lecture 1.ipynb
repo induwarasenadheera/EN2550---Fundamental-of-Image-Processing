{
 "cells": [
  {
   "cell_type": "markdown",
   "metadata": {},
   "source": [
    "Name = Induwara Senadheera"
   ]
  },
  {
   "cell_type": "markdown",
   "metadata": {},
   "source": [
    "Index = 190574U"
   ]
  },
  {
   "cell_type": "markdown",
   "metadata": {},
   "source": [
    "(1)"
   ]
  },
  {
   "cell_type": "code",
   "execution_count": 15,
   "metadata": {},
   "outputs": [
    {
     "name": "stdout",
     "output_type": "stream",
     "text": [
      "1 :  1\n",
      "2 :  4\n",
      "3 :  9\n",
      "4 :  16\n",
      "5 :  25\n"
     ]
    }
   ],
   "source": [
    "#1\n",
    "for i in range(1,6):\n",
    "    print(i,': ',i**2)"
   ]
  },
  {
   "cell_type": "markdown",
   "metadata": {},
   "source": [
    "(2)"
   ]
  },
  {
   "cell_type": "code",
   "execution_count": 16,
   "metadata": {},
   "outputs": [
    {
     "name": "stdout",
     "output_type": "stream",
     "text": [
      "1 :  1\n",
      "4 :  16\n"
     ]
    }
   ],
   "source": [
    "#2\n",
    "import sympy\n",
    "for i in range(1,6):\n",
    "    if not sympy.isprime(i):\n",
    "        print(i,': ',i**2)"
   ]
  },
  {
   "cell_type": "markdown",
   "metadata": {},
   "source": [
    "(3)"
   ]
  },
  {
   "cell_type": "code",
   "execution_count": 17,
   "metadata": {},
   "outputs": [
    {
     "name": "stdout",
     "output_type": "stream",
     "text": [
      "1 :  1\n",
      "2 :  4\n",
      "3 :  9\n",
      "4 :  16\n",
      "5 :  25\n"
     ]
    }
   ],
   "source": [
    "#3\n",
    "square=[i**2 for i in range(1,6)]\n",
    "for i,i2 in enumerate(square):\n",
    "    print(i+1,': ',i2)"
   ]
  },
  {
   "cell_type": "markdown",
   "metadata": {},
   "source": [
    "(4)"
   ]
  },
  {
   "cell_type": "code",
   "execution_count": 18,
   "metadata": {},
   "outputs": [
    {
     "name": "stdout",
     "output_type": "stream",
     "text": [
      "1 :  1\n",
      "4 :  16\n"
     ]
    }
   ],
   "source": [
    "#4\n",
    "import sympy\n",
    "square=[i**2 for i in range(1,6)]\n",
    "for i,i2 in enumerate(square):\n",
    "    if not sympy.isprime(i+1):\n",
    "        print(i+1,': ',i2)"
   ]
  },
  {
   "cell_type": "markdown",
   "metadata": {},
   "source": [
    "(5)"
   ]
  },
  {
   "cell_type": "code",
   "execution_count": 19,
   "metadata": {},
   "outputs": [
    {
     "name": "stdout",
     "output_type": "stream",
     "text": [
      "Cross Product of A and B\n",
      "[[ 9 12 15  9]\n",
      " [25 32 39 19]\n",
      " [41 52 63 29]]\n",
      "Dot Product of A and B\n",
      "[[ 9 12 15  9]\n",
      " [25 32 39 19]\n",
      " [41 52 63 29]]\n"
     ]
    }
   ],
   "source": [
    "#5 a)\n",
    "import numpy as np\n",
    "\n",
    "A=np.array([[1,2],[3,4],[5,6]])\n",
    "B=np.array([[7,8,9,1],[1,2,3,4]])\n",
    "print(\"Cross Product of A and B\")\n",
    "print(np.matmul(A,B)) \n",
    "print(\"Dot Product of A and B\")\n",
    "print(np.dot(A,B))\n",
    "\n"
   ]
  },
  {
   "cell_type": "code",
   "execution_count": 20,
   "metadata": {},
   "outputs": [
    {
     "name": "stdout",
     "output_type": "stream",
     "text": [
      "Element wise multiplication of A and B\n",
      "[[ 3  4]\n",
      " [15 16]\n",
      " [15  6]]\n"
     ]
    }
   ],
   "source": [
    "#s b)\n",
    "A=np.array([[1,2],[3,4],[5,6]])\n",
    "B=np.array([[3,2],[5,4],[3,1]])\n",
    "print(\"Element wise multiplication of A and B\")\n",
    "print(np.multiply(A,B))"
   ]
  },
  {
   "cell_type": "markdown",
   "metadata": {},
   "source": [
    "(6)"
   ]
  },
  {
   "cell_type": "code",
   "execution_count": 21,
   "metadata": {},
   "outputs": [
    {
     "name": "stdout",
     "output_type": "stream",
     "text": [
      "[[9 2 9 5 4 3 7]\n",
      " [2 3 8 7 6 4 3]\n",
      " [6 3 3 2 0 5 8]\n",
      " [7 3 1 6 5 7 5]\n",
      " [5 0 4 6 5 4 5]]\n",
      "[[3 3]\n",
      " [3 1]]\n",
      "4\n"
     ]
    }
   ],
   "source": [
    "#6\n",
    "w=np.random.randint(0,10,size=[5,7])\n",
    "print(w)\n",
    "\n",
    "##Extracting Process\n",
    "ww=w[2:4,1:3]\n",
    "print(ww)\n",
    "\n",
    "print(ww.size)"
   ]
  },
  {
   "cell_type": "markdown",
   "metadata": {},
   "source": [
    "(7) Examples of Broadcasring"
   ]
  },
  {
   "cell_type": "code",
   "execution_count": 22,
   "metadata": {},
   "outputs": [
    {
     "name": "stdout",
     "output_type": "stream",
     "text": [
      "Example 1\n",
      "A = [1 2 3]\n",
      "B = 2\n",
      "C = [3 4 5]\n",
      "\n",
      "Example 2\n",
      "A = [[1 2 3]\n",
      " [4 5 6]]\n",
      "B = [1 2 3]\n",
      "C = [[2 4 6]\n",
      " [5 7 9]]\n",
      "\n",
      "Example 3\n",
      "A = [1 2 3]\n",
      "B = [4 5]\n",
      "C = [[ 4  5]\n",
      " [ 8 10]\n",
      " [12 15]]\n"
     ]
    }
   ],
   "source": [
    "#7\n",
    "print(\"Example 1\") # Example 1\n",
    "A = np.array([1, 2, 3])\n",
    "print(\"A =\",A)\n",
    "B = 2\n",
    "print(\"B =\",B)\n",
    "C = A + B\n",
    "print(\"C =\",C,)\n",
    "\n",
    "print(\"\\nExample 2\") # Example 2\n",
    "A = np.array([[1, 2, 3], [4, 5, 6]])\n",
    "print(\"A =\",A)\n",
    "B = np.array([1, 2, 3])\n",
    "print(\"B =\",B)\n",
    "C = A + B\n",
    "print(\"C =\",C)\n",
    "\n",
    "print(\"\\nExample 3\")# Example 3\n",
    "A = np.array([1,2,3]) \n",
    "print('A =',A)\n",
    "B = np.array([4,5])\n",
    "print('B =',B)\n",
    "C = np.reshape(A, (3, 1)) * B\n",
    "print('C =',C)\n",
    "\n"
   ]
  },
  {
   "cell_type": "markdown",
   "metadata": {},
   "source": [
    "(8)"
   ]
  },
  {
   "cell_type": "code",
   "execution_count": 23,
   "metadata": {},
   "outputs": [
    {
     "name": "stdout",
     "output_type": "stream",
     "text": [
      "[[0.]\n",
      " [1.]\n",
      " [2.]\n",
      " [3.]\n",
      " [4.]\n",
      " [5.]\n",
      " [6.]\n",
      " [7.]\n",
      " [8.]\n",
      " [9.]]\n",
      "[[1. 0.]\n",
      " [1. 1.]\n",
      " [1. 2.]\n",
      " [1. 3.]\n",
      " [1. 4.]\n",
      " [1. 5.]\n",
      " [1. 6.]\n",
      " [1. 7.]\n",
      " [1. 8.]\n",
      " [1. 9.]]\n",
      "[[-1.41670852]\n",
      " [ 1.16121048]]\n"
     ]
    },
    {
     "data": {
      "image/png": "[encoded data removed]",
      "text/plain": [
       "<Figure size 432x288 with 1 Axes>"
      ]
     },
     "metadata": {
      "needs_background": "light"
     },
     "output_type": "display_data"
    }
   ],
   "source": [
    "#8\n",
    "import numpy as np\n",
    "from numpy import linalg\n",
    "import matplotlib.pyplot as plt\n",
    "m,c = 2 ,-4\n",
    "N=10\n",
    "x=np.linspace(0,N-1,N).reshape (N, 1 )\n",
    "sigma = 10\n",
    "y = m*x + c + np . random. normal (0,sigma, (N, 1 ))\n",
    "plt.scatter(x,y)\n",
    "\n",
    "print(x)\n",
    "#(a)\n",
    "X=np.append(np.ones((N,1)),x,axis=1)\n",
    "print(X)\n",
    "#(b)\n",
    "w=linalg.inv(X.T@ X)@X.T @ y\n",
    "print(w)"
   ]
  },
  {
   "cell_type": "markdown",
   "metadata": {},
   "source": [
    "(10)"
   ]
  },
  {
   "cell_type": "code",
   "execution_count": 24,
   "metadata": {},
   "outputs": [],
   "source": [
    "#10\n",
    "import cv2 as cv\n",
    "im=cv.imread(r'./Images/gal_gaussian.png')\n",
    "\n",
    "blur=cv.GaussianBlur(im,(5,5),0)\n",
    "\n",
    "cv.namedWindow('Image',cv.WINDOW_AUTOSIZE)\n",
    "cv.imshow('Image',im)\n",
    "\n",
    "cv.waitKey(0)\n",
    "cv.imshow('Image',blur)\n",
    "cv.waitKey(0)\n",
    "cv.destroyAllWindows()"
   ]
  },
  {
   "cell_type": "markdown",
   "metadata": {},
   "source": [
    "(11)"
   ]
  },
  {
   "cell_type": "code",
   "execution_count": 25,
   "metadata": {},
   "outputs": [],
   "source": [
    "#11\n",
    "import cv2 as cv\n",
    "im=cv.imread(r'./Images/gal_sandp.png')\n",
    "\n",
    "median = cv.medianBlur(im,5)\n",
    "\n",
    "cv.namedWindow('Image',cv.WINDOW_AUTOSIZE)\n",
    "cv.imshow('Image',im)\n",
    "cv.waitKey(0)\n",
    "cv.imshow('Image',median)\n",
    "cv.waitKey(0)\n",
    "cv.destroyAllWindows()"
   ]
  },
  {
   "cell_type": "markdown",
   "metadata": {},
   "source": [
    "(12)"
   ]
  },
  {
   "cell_type": "code",
   "execution_count": 26,
   "metadata": {},
   "outputs": [
    {
     "data": {
      "image/png": "[encoded data removed]",
      "text/plain": [
       "<Figure size 432x288 with 1 Axes>"
      ]
     },
     "metadata": {
      "needs_background": "light"
     },
     "output_type": "display_data"
    },
    {
     "data": {
      "image/png": "[encoded data removed]",
      "text/plain": [
       "<Figure size 432x288 with 1 Axes>"
      ]
     },
     "metadata": {
      "needs_background": "light"
     },
     "output_type": "display_data"
    }
   ],
   "source": [
    "#12\n",
    "import numpy as np\n",
    "import cv2 as cv\n",
    "import matplotlib.pyplot as plt\n",
    "\n",
    "img = np.zeros((40,60), dtype=np.uint8)\n",
    "img[0:21, 30:61] = 125\n",
    "\n",
    "fig, ax = plt.subplots()\n",
    "ax.imshow(img)\n",
    "plt.show()\n",
    "img = np.zeros((40,60), dtype=np.uint8)\n",
    "img[0:21, 30:61] = 125\n",
    "\n",
    "fig, ax = plt.subplots()\n",
    "ax.imshow(img, cmap ='gray', vmin = 0, vmax = 255)\n",
    "plt.show()\n",
    "\n"
   ]
  },
  {
   "cell_type": "markdown",
   "metadata": {},
   "source": [
    "(13)"
   ]
  },
  {
   "cell_type": "code",
   "execution_count": 27,
   "metadata": {},
   "outputs": [
    {
     "data": {
      "image/png": "[encoded data removed]",
      "text/plain": [
       "<Figure size 432x288 with 1 Axes>"
      ]
     },
     "metadata": {
      "needs_background": "light"
     },
     "output_type": "display_data"
    }
   ],
   "source": [
    "#13\n",
    "import numpy as np\n",
    "import cv2 as cv\n",
    "import matplotlib.pyplot as plt\n",
    "\n",
    "img = np.zeros((40,60,3), dtype=np.uint8)\n",
    "img[21:41, 0:31]= [224,33,128]\n",
    "\n",
    "fig, ax = plt.subplots()\n",
    "ax.imshow(img)\n",
    "plt.show()\n"
   ]
  },
  {
   "cell_type": "markdown",
   "metadata": {},
   "source": [
    "(14)"
   ]
  },
  {
   "cell_type": "code",
   "execution_count": 28,
   "metadata": {},
   "outputs": [],
   "source": [
    "#14\n",
    "import cv2 as cv\n",
    "img = cv.imread(r'./Images/tom_dark.jpg')\n",
    "#median = cv2.medianBlur(img, 5)\n",
    "\n",
    "value = 80\n",
    "hsv = cv.cvtColor(img, cv.COLOR_BGR2HSV) #converting the image to HSV colour Format\n",
    "h, s, v = cv.split(hsv) #split the 3D vector\n",
    "lim = 255 - value\n",
    "#changing V of the image\n",
    "v[v > lim] = 255\n",
    "v[v <= lim] += value\n",
    "final_hsv = cv.merge((h, s, v))\n",
    "img2 = cv.cvtColor(final_hsv, cv.COLOR_HSV2BGR)\n",
    "\n",
    "\n",
    "cv.namedWindow('Image', cv.WINDOW_AUTOSIZE)\n",
    "cv.imshow('Image', img)\n",
    "cv.waitKey(0)\n",
    "cv.imshow('Image', img2)\n",
    "cv.waitKey(0)\n",
    "cv.destroyAllWindows()\n"
   ]
  }
 ],
 "metadata": {
  "interpreter": {
   "hash": "63fd5069d213b44bf678585dea6b12cceca9941eaf7f819626cde1f2670de90d"
  },
  "kernelspec": {
   "display_name": "Python 3.9.1 64-bit",
   "language": "python",
   "name": "python3"
  },
  "language_info": {
   "codemirror_mode": {
    "name": "ipython",
    "version": 3
   },
   "file_extension": ".py",
   "mimetype": "text/x-python",
   "name": "python",
   "nbconvert_exporter": "python",
   "pygments_lexer": "ipython3",
   "version": "3.9.1"
  },
  "orig_nbformat": 4
 },
 "nbformat": 4,
 "nbformat_minor": 2
}
