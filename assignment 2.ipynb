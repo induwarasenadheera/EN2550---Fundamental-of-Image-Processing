{
 "cells": [
  {
   "cell_type": "markdown",
   "metadata": {},
   "source": [
    "## EN2550 Assignment 1 on Fitting and Alignment"
   ]
  },
  {
   "cell_type": "markdown",
   "metadata": {},
   "source": [
    "190574U </br> Induwara Senadheera"
   ]
  },
  {
   "cell_type": "code",
   "execution_count": 7,
   "metadata": {},
   "outputs": [
    {
     "data": {
      "text/plain": [
       "<matplotlib.collections.PathCollection at 0x2387aea0d30>"
      ]
     },
     "execution_count": 7,
     "metadata": {},
     "output_type": "execute_result"
    },
    {
     "data": {
      "image/png": "[encoded data removed]",
      "text/plain": [
       "<Figure size 432x288 with 1 Axes>"
      ]
     },
     "metadata": {
      "needs_background": "light"
     },
     "output_type": "display_data"
    }
   ],
   "source": [
    "import numpy as np\n",
    "from scipy . optimize import minimize\n",
    "from scipy import linalg\n",
    "import matplotlib.pyplot as plt\n",
    "# np . random. seed ( 0 )\n",
    "N = 100\n",
    "half_n = N//2\n",
    "r = 10\n",
    "s = r /16\n",
    "t = np . random. uniform(0 , 2*np . pi , half_n )\n",
    "n = s*np . random. randn ( half_n )\n",
    "x , y = ( r + n)*np . cos ( t ) , ( r + n)*np . sin ( t )\n",
    "X_circ = np . hstack ( ( x . reshape ( half_n , 1 ) , y . reshape ( half_n , 1 ) ) )\n",
    "m, b = -1, 2\n",
    "x = np . linspace (-12, 12 , half_n )\n",
    "y = m*x + b + s*np . random. randn ( half_n )\n",
    "X_line = np . hstack ( ( x . reshape ( half_n , 1 ) , y . reshape ( half_n , 1 ) ) )\n",
    "X = np . vstack ( ( X_circ , X_line ) )\n",
    "\n",
    "fig,ax=plt.subplots()\n",
    "\n",
    "plt.scatter(t,y)"
   ]
  },
  {
   "cell_type": "code",
   "execution_count": 1,
   "metadata": {},
   "outputs": [
    {
     "data": {
      "image/png": "[encoded data removed]",
      "text/plain": [
       "<Figure size 432x288 with 1 Axes>"
      ]
     },
     "metadata": {
      "needs_background": "light"
     },
     "output_type": "display_data"
    }
   ],
   "source": [
    "import numpy as np\n",
    "import matplotlib.pyplot as plt\n",
    "from numpy.linalg import inv\n",
    "\n",
    "def data_generator():\n",
    "\tx_data = []\n",
    "\ty_data = []\n",
    "\n",
    "\ta = 2\n",
    "\tb = 3\n",
    "\tr = 100\n",
    "\n",
    "\tfor i in np.arange(a - r, a + r, 1):\n",
    "\t\tx = i\n",
    "\t\ty = 0\n",
    "\t\ty1, y2 = circle_func(a, b, r, x)\n",
    "\t\tif np.random.randn() > 0:\n",
    "\t\t\ty += y1 + np.random.randn()*5\n",
    "\t\telse:\n",
    "\t\t\ty += y2 + np.random.randn()*5\n",
    "\t\tx_data.append(x)\n",
    "\t\ty_data.append(y)\n",
    "\n",
    "\treturn x_data, y_data\n",
    "\n",
    "def circle_func(a, b, r, x):\n",
    "\treturn (np.sqrt(r**2-(x-a)**2) + b, -np.sqrt(r**2-(x-a)**2) + b)\n",
    "\n",
    "class RANSAC:\n",
    "\tdef __init__(self, x_data, y_data, n):\n",
    "\t\tself.x_data = x_data\n",
    "\t\tself.y_data = y_data\n",
    "\t\tself.n = n\n",
    "\t\tself.d_min = 99999\n",
    "\t\tself.best_model = None\n",
    "\n",
    "\tdef random_sampling(self):\n",
    "\t\tsample = []\n",
    "\t\tsave_ran = []\n",
    "\t\tcount = 0\n",
    "\n",
    "\t\t# get three points from data\n",
    "\t\twhile True:\n",
    "\t\t\tran = np.random.randint(len(self.x_data))\n",
    "\n",
    "\t\t\tif ran not in save_ran:\n",
    "\t\t\t\tsample.append((self.x_data[ran], self.y_data[ran]))\n",
    "\t\t\t\tsave_ran.append(ran)\n",
    "\t\t\t\tcount += 1\n",
    "\n",
    "\t\t\t\tif count == 3:\n",
    "\t\t\t\t\tbreak\n",
    "\n",
    "\t\treturn sample\n",
    "\n",
    "\tdef make_model(self, sample):\n",
    "\t\t# calculate A, B, C value from three points by using matrix\n",
    "\t\n",
    "\t\tpt1 = sample[0]\n",
    "\t\tpt2 = sample[1]\n",
    "\t\tpt3 = sample[2]\n",
    "\n",
    "\t\tA = np.array([[pt2[0] - pt1[0], pt2[1] - pt1[1]], [pt3[0] - pt2[0], pt3[1] - pt2[1]]]) \n",
    "\t\tB = np.array([[pt2[0]**2 - pt1[0]**2 + pt2[1]**2 - pt1[1]**2], [pt3[0]**2 - pt2[0]**2 + pt3[1]**2 - pt2[1]**2]])\t\t\n",
    "\t\tinv_A = inv(A)\n",
    "\n",
    "\t\tc_x, c_y = np.dot(inv_A, B) / 2\n",
    "\t\tc_x, c_y = c_x[0], c_y[0]\n",
    "\t\tr = np.sqrt((c_x - pt1[0])**2 + (c_y - pt1[1])**2)\n",
    "\n",
    "\t\treturn c_x, c_y, r\n",
    "\n",
    "\tdef eval_model(self, model):\n",
    "\t\td = 0\n",
    "\t\tc_x, c_y, r = model\n",
    "\n",
    "\t\tfor i in range(len(self.x_data)):\n",
    "\t\t\tdis = np.sqrt((self.x_data[i]-c_x)**2 + (self.y_data[i]-c_y)**2)\n",
    "\n",
    "\t\t\tif dis >= r:\n",
    "\t\t\t\td += dis - r\n",
    "\t\t\telse:\n",
    "\t\t\t\td += r - dis\n",
    "\t\t\n",
    "\t\treturn d\n",
    "\n",
    "\tdef execute_ransac(self):\n",
    "\t\t# find best model\n",
    "\t\tfor i in range(self.n):\n",
    "\t\t\tmodel = self.make_model(self.random_sampling())\n",
    "\t\t\td_temp = self.eval_model(model)\n",
    "\t\t\t\n",
    "\t\t\tif self.d_min > d_temp:\n",
    "\t\t\t\tself.best_model = model\n",
    "\t\t\t\tself.d_min = d_temp\n",
    "\n",
    "\n",
    "if __name__ == '__main__':\n",
    "\t# make data\n",
    "\tx_data, y_data = data_generator()\n",
    "\n",
    "\t# show data by scatter type\n",
    "\tplt.scatter(x_data, y_data, c='blue', marker='o', label='data')\n",
    "\n",
    "\t# make ransac class\n",
    "\t# n: how many times try sampling\n",
    "\transac = RANSAC(x_data, y_data, 50)\n",
    "\t\n",
    "\t# execute ransac algorithm\n",
    "\transac.execute_ransac()\n",
    "\t\n",
    "\t# get best model from ransac\n",
    "\ta, b, r = ransac.best_model[0], ransac.best_model[1], ransac.best_model[2]\n",
    "\n",
    "\t# show result\n",
    "\tcircle = plt.Circle((a, b), radius=r, color='r', fc='y', fill=False)\n",
    "\tplt.gca().add_patch(circle)\n",
    "\n",
    "\tplt.axis('scaled')\n",
    "\n",
    "\t# plt.tight_layout()\n",
    "\tplt.show()"
   ]
  }
 ],
 "metadata": {
  "interpreter": {
   "hash": "63fd5069d213b44bf678585dea6b12cceca9941eaf7f819626cde1f2670de90d"
  },
  "kernelspec": {
   "display_name": "Python 3.9.1 64-bit",
   "language": "python",
   "name": "python3"
  },
  "language_info": {
   "codemirror_mode": {
    "name": "ipython",
    "version": 3
   },
   "file_extension": ".py",
   "mimetype": "text/x-python",
   "name": "python",
   "nbconvert_exporter": "python",
   "pygments_lexer": "ipython3",
   "version": "3.9.1"
  },
  "orig_nbformat": 4
 },
 "nbformat": 4,
 "nbformat_minor": 2
}
