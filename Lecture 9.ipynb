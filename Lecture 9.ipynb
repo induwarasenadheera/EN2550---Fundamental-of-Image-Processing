{
 "cells": [
  {
   "cell_type": "markdown",
   "metadata": {},
   "source": [
    "### Induwara Senadheera \n",
    "### 190574U"
   ]
  },
  {
   "cell_type": "code",
   "execution_count": null,
   "metadata": {},
   "outputs": [],
   "source": [
    "pip install numpy"
   ]
  },
  {
   "cell_type": "code",
   "execution_count": null,
   "metadata": {},
   "outputs": [],
   "source": [
    "pip install matplotlib"
   ]
  },
  {
   "cell_type": "code",
   "execution_count": null,
   "metadata": {},
   "outputs": [],
   "source": [
    "pip install opencv-contrib-python"
   ]
  },
  {
   "cell_type": "code",
   "execution_count": null,
   "metadata": {},
   "outputs": [],
   "source": [
    "# Question 01\n",
    "import cv2 as cv\n",
    "import numpy as np\n",
    "import matplotlib.pyplot as plt\n",
    "f = open(r'./Images//templeSparseRing/templeSR_par.txt')\n",
    "assert f is not None\n",
    "n= int(f.readline())\n",
    "l=f.readline().split()\n",
    "im1_fn=l[0]\n",
    "k1=np.array([float(i) for i in l[1:10]]).reshape((3,3))\n",
    "R1=np.array([float(i) for i in l[10:19]]).reshape((3,3))\n",
    "t1=np.array([float(i) for i in l[19:22]]).reshape((3,1))\n",
    "l=f.readline().split()\n",
    "im2_fn=l[0]\n",
    "k2=np.array([float(i) for i in l[1:10]]).reshape((3,3))\n",
    "R2=np.array([float(i) for i in l[10:19]]).reshape((3,3))\n",
    "t2=np.array([float(i) for i in l[19:22]]).reshape((3,1))\n",
    "im1= cv.imread(r'./Images//templeSparseRing/' + im1_fn,cv.IMREAD_COLOR)\n",
    "im2= cv.imread(r'./Images//templeSparseRing/' + im2_fn,cv.IMREAD_COLOR)\n",
    "assert im1 is not None\n",
    "assert im2 is not None\n",
    "fig, ax = plt.subplots( 1, 2, figsize = (18, 8))\n",
    "ax[0].imshow(cv.cvtColor(im1, cv.COLOR_BGR2RGB))\n",
    "ax[1].imshow(cv.cvtColor(im2, cv.COLOR_BGR2RGB))\n",
    "plt.show()"
   ]
  },
  {
   "cell_type": "code",
   "execution_count": null,
   "metadata": {},
   "outputs": [],
   "source": [
    "# Question 02\n",
    "import cv2 as cv\n",
    "import numpy as np\n",
    "import matplotlib.pyplot as plt\n",
    "sift = cv.xfeatures2d.SIFT_create()\n",
    "kp1, decs1 = sift.detectAndCompute(im1, None)\n",
    "kp2, decs2 = sift.detectAndCompute(im2, None)\n",
    "FLANN_INDEX_KDTREE = 1\n",
    "index_params = dict(algorithm =FLANN_INDEX_KDTREE, trees = 5 )\n",
    "search_params = dict(checks=100)\n",
    "flann = cv.FlannBasedMatcher(index_params, search_params)\n",
    "matches = flann.knnMatch(decs1, decs2, k=2)\n",
    "good = []\n",
    "pts1 = []\n",
    "pts2 = []\n",
    "for i, (m,n) in enumerate(matches):\n",
    "    if m.distance < 0.7*n.distance:\n",
    "        good.append(m)\n",
    "        pts1.append(kp1[m.queryIdx].pt)\n",
    "        pts2.append(kp2[m.trainIdx].pt)\n",
    "pts1 = np.array(pts1)\n",
    "pts2 = np.array(pts2)\n",
    "F,mask = cv.findFundamentalMat(pts1, pts2, cv.FM_RANSAC)\n",
    "print (\"F:\\n\",F)\n",
    "E = k2.T @ F @ k1\n",
    "print (\"E:\\n\",E)\n",
    "retval, R, t, mask = cv.recoverPose(E, pts1, pts2, k1)\n",
    "R_t_1 = np.concatenate((R1, t1), axis =1) # 3 x 4\n",
    "R2_ = R1 @ R\n",
    "t2_ = R1 @ t\n",
    "R_t_2 = np.concatenate((R2_, t2_), axis =1)\n",
    "P1 = k1 @ np.hstack((R1, t1))\n",
    "P2_ = k2 @ R_t_2"
   ]
  },
  {
   "cell_type": "code",
   "execution_count": null,
   "metadata": {},
   "outputs": [],
   "source": [
    "# Question 03-04\n",
    "sift = cv.xfeatures2d.SIFT_create()\n",
    "kp1, decs1 = sift.detectAndCompute(im1, None)\n",
    "kp2, decs2 = sift.detectAndCompute(im2, None)\n",
    "FLANN_INDEX_KDTREE = 1\n",
    "index_params = dict(algorithm =FLANN_INDEX_KDTREE, trees = 5 )\n",
    "search_params = dict(checks=100)\n",
    "flann = cv.FlannBasedMatcher(index_params, search_params)\n",
    "matches = flann.knnMatch(decs1, decs2, k=2)\n",
    "good = []\n",
    "pts1 = []\n",
    "pts2 = []\n",
    "for i, (m,n) in enumerate(matches):\n",
    "    if m.distance < 0.7*n.distance:\n",
    "        good.append(m)\n",
    "        pts1.append(kp1[m.queryIdx].pt)\n",
    "        pts2.append(kp2[m.trainIdx].pt)\n",
    "pts1 = np.array(pts1)\n",
    "pts2 = np.array(pts2)\n",
    "F,mask = cv.findFundamentalMat(pts1, pts2, cv.FM_RANSAC)\n",
    "print (\"F:\\n\",F)\n",
    "E = k2.T @ F @ k1\n",
    "print (\"E:\\n\",E)\n",
    "retval, R, t, mask = cv.recoverPose(E, pts1, pts2, k1)\n",
    "R_t_1 = np.concatenate((R1, t1), axis =1) # 3 x 4\n",
    "R2_ = R1 @ R\n",
    "t2_ = R1 @ t\n",
    "R_t_2 = np.concatenate((R2_, t2_), axis =1)\n",
    "P1 = k1 @ np.hstack((R1, t1))\n",
    "P2_ = k2 @ R_t_2"
   ]
  },
  {
   "cell_type": "code",
   "execution_count": null,
   "metadata": {},
   "outputs": [],
   "source": [
    "# Question 05\n",
    "points4d = cv.triangulatePoints(P1, P2_, pts1.T, pts2.T)\n",
    "points4d /= points4d[3, :]\n",
    "import matplotlib.pyplot as plt\n",
    "X = points4d[0, :]\n",
    "Y = points4d[1, :]\n",
    "Z = points4d[2, :]\n",
    "fig = plt.figure(1)\n",
    "ax = fig.add_subplot(111, projection='3d')\n",
    "ax.scatter(X, Y, Z, s=1, cmap='gray')\n",
    "plt.show()"
   ]
  }
 ],
 "metadata": {
  "interpreter": {
   "hash": "63fd5069d213b44bf678585dea6b12cceca9941eaf7f819626cde1f2670de90d"
  },
  "kernelspec": {
   "display_name": "Python 3.9.1 64-bit",
   "language": "python",
   "name": "python3"
  },
  "language_info": {
   "codemirror_mode": {
    "name": "ipython",
    "version": 3
   },
   "file_extension": ".py",
   "mimetype": "text/x-python",
   "name": "python",
   "nbconvert_exporter": "python",
   "pygments_lexer": "ipython3",
   "version": "3.7.8"
  },
  "orig_nbformat": 4
 },
 "nbformat": 4,
 "nbformat_minor": 2
}
